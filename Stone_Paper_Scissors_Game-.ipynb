{
 "cells": [
  {
   "cell_type": "code",
   "execution_count": 2,
   "id": "ea5621ee",
   "metadata": {},
   "outputs": [
    {
     "name": "stdout",
     "output_type": "stream",
     "text": [
      "Computer's choice: paper\n",
      "Your choice: paper\n",
      "It's a tie!\n"
     ]
    }
   ],
   "source": [
    "import random\n",
    "\n",
    "def play_game():\n",
    "    choices = ['stone', 'paper', 'scissors']\n",
    "    computer_choice = random.choice(choices)\n",
    "    user_choice = random.choice(choices)\n",
    "    \n",
    "    print(f\"Computer's choice: {computer_choice}\")\n",
    "    print(f\"Your choice: {user_choice}\")\n",
    "    \n",
    "    if computer_choice == user_choice:\n",
    "        print(\"It's a tie!\")\n",
    "    elif (computer_choice == 'stone' and user_choice == 'scissors') or \\\n",
    "         (computer_choice == 'paper' and user_choice == 'stone') or \\\n",
    "         (computer_choice == 'scissors' and user_choice == 'paper'):\n",
    "        print(\"Computer wins!\")\n",
    "    else:\n",
    "        print(\"You win!\")\n",
    "\n",
    "play_game()"
   ]
  },
  {
   "cell_type": "code",
   "execution_count": null,
   "id": "1662b18b",
   "metadata": {},
   "outputs": [],
   "source": []
  }
 ],
 "metadata": {
  "kernelspec": {
   "display_name": "Python 3 (ipykernel)",
   "language": "python",
   "name": "python3"
  },
  "language_info": {
   "codemirror_mode": {
    "name": "ipython",
    "version": 3
   },
   "file_extension": ".py",
   "mimetype": "text/x-python",
   "name": "python",
   "nbconvert_exporter": "python",
   "pygments_lexer": "ipython3",
   "version": "3.11.5"
  }
 },
 "nbformat": 4,
 "nbformat_minor": 5
}
